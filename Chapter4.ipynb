{
 "cells": [
  {
   "cell_type": "code",
   "execution_count": 6,
   "metadata": {
    "collapsed": true
   },
   "outputs": [],
   "source": [
    "## Linear Regression using normal equation\n",
    "\n",
    "import numpy as np\n",
    "X = 2 * np.random.rand(100, 1)\n",
    "y = 4 + 3 * X + np.random.randn(100, 1)\n"
   ]
  },
  {
   "cell_type": "code",
   "execution_count": 7,
   "metadata": {
    "collapsed": true
   },
   "outputs": [],
   "source": [
    "## np.c_ : Translates slice objects to concatenation along the second axis.\n",
    "\n",
    "X_b = np.c_[np.ones((100, 1)), X]\n",
    "theta_best = np.linalg.inv(X_b.T.dot(X_b)).dot(X_b.T).dot(y)"
   ]
  },
  {
   "cell_type": "code",
   "execution_count": 8,
   "metadata": {},
   "outputs": [
    {
     "data": {
      "text/plain": [
       "array([[4.110694  ],\n",
       "       [2.80263863]])"
      ]
     },
     "execution_count": 8,
     "metadata": {},
     "output_type": "execute_result"
    }
   ],
   "source": [
    "theta_best"
   ]
  },
  {
   "cell_type": "code",
   "execution_count": 9,
   "metadata": {},
   "outputs": [
    {
     "data": {
      "text/plain": [
       "array([[4.110694  ],\n",
       "       [9.71597126]])"
      ]
     },
     "execution_count": 9,
     "metadata": {},
     "output_type": "execute_result"
    }
   ],
   "source": [
    "X_new = np.array([[0], [2]])\n",
    "X_new_b = np.c_[np.ones((2,1)), X_new]\n",
    "y_predict = X_new_b.dot(theta_best)\n",
    "y_predict"
   ]
  },
  {
   "cell_type": "code",
   "execution_count": 10,
   "metadata": {},
   "outputs": [
    {
     "data": {
      "image/png": "[encoded data removed]",
      "text/plain": [
       "<matplotlib.figure.Figure at 0x7f75567287b8>"
      ]
     },
     "metadata": {},
     "output_type": "display_data"
    }
   ],
   "source": [
    "import matplotlib.pyplot as plt\n",
    "plt.plot(X_new, y_predict, \"r-\")\n",
    "plt.plot(X, y, \"b.\")\n",
    "plt.axis([0, 2, 0, 15])\n",
    "plt.show()"
   ]
  },
  {
   "cell_type": "code",
   "execution_count": 11,
   "metadata": {
    "collapsed": true
   },
   "outputs": [],
   "source": [
    "### Gradient Descent Review\n",
    "\n",
    "##1. Batch gradient descent\n",
    "## it uses the whole batch of training data at every step.\n",
    "\n",
    "eta = 0.02\n",
    "n_iterations = 1000\n",
    "m = 100\n",
    "\n",
    "theta = np.random.randn(2, 1)\n",
    "for iteration in range(n_iterations):\n",
    "    gradients = 2 / m * X_b.T.dot(X_b.dot(theta) - y)\n",
    "    theta = theta - eta * gradients"
   ]
  },
  {
   "cell_type": "code",
   "execution_count": 12,
   "metadata": {},
   "outputs": [
    {
     "data": {
      "text/plain": [
       "array([[4.10989553],\n",
       "       [2.80327914]])"
      ]
     },
     "execution_count": 12,
     "metadata": {},
     "output_type": "execute_result"
    }
   ],
   "source": [
    "theta"
   ]
  },
  {
   "cell_type": "code",
   "execution_count": 13,
   "metadata": {},
   "outputs": [
    {
     "data": {
      "text/plain": [
       "array([[1.        , 1.74799653],\n",
       "       [1.        , 1.44070571],\n",
       "       [1.        , 0.88714353],\n",
       "       [1.        , 0.79407695],\n",
       "       [1.        , 0.67158421],\n",
       "       [1.        , 0.41179685],\n",
       "       [1.        , 0.12390748],\n",
       "       [1.        , 1.36589851],\n",
       "       [1.        , 0.2751318 ],\n",
       "       [1.        , 0.37260056],\n",
       "       [1.        , 1.19841508],\n",
       "       [1.        , 0.51425865],\n",
       "       [1.        , 0.99789719],\n",
       "       [1.        , 0.46453328],\n",
       "       [1.        , 0.68121686],\n",
       "       [1.        , 1.6399974 ],\n",
       "       [1.        , 0.79406412],\n",
       "       [1.        , 0.67679953],\n",
       "       [1.        , 0.0754696 ],\n",
       "       [1.        , 1.91007747],\n",
       "       [1.        , 0.99966342],\n",
       "       [1.        , 1.18217322],\n",
       "       [1.        , 0.86168094],\n",
       "       [1.        , 0.63036846],\n",
       "       [1.        , 0.06739434],\n",
       "       [1.        , 0.81898701],\n",
       "       [1.        , 1.69379939],\n",
       "       [1.        , 0.37731325],\n",
       "       [1.        , 1.16946515],\n",
       "       [1.        , 0.0082593 ],\n",
       "       [1.        , 1.60445207],\n",
       "       [1.        , 0.74605158],\n",
       "       [1.        , 1.63216389],\n",
       "       [1.        , 1.68407259],\n",
       "       [1.        , 0.27430234],\n",
       "       [1.        , 1.73015027],\n",
       "       [1.        , 1.98595721],\n",
       "       [1.        , 1.82668197],\n",
       "       [1.        , 1.79565856],\n",
       "       [1.        , 1.64004066],\n",
       "       [1.        , 1.08619081],\n",
       "       [1.        , 1.59382376],\n",
       "       [1.        , 1.03831073],\n",
       "       [1.        , 0.57997396],\n",
       "       [1.        , 0.67241302],\n",
       "       [1.        , 1.06802861],\n",
       "       [1.        , 0.38950259],\n",
       "       [1.        , 1.11522503],\n",
       "       [1.        , 1.47933605],\n",
       "       [1.        , 1.77230579],\n",
       "       [1.        , 1.70977267],\n",
       "       [1.        , 1.89644938],\n",
       "       [1.        , 1.24210947],\n",
       "       [1.        , 0.20951928],\n",
       "       [1.        , 1.3797947 ],\n",
       "       [1.        , 1.25276189],\n",
       "       [1.        , 0.44394735],\n",
       "       [1.        , 0.71681678],\n",
       "       [1.        , 0.53664803],\n",
       "       [1.        , 0.8284603 ],\n",
       "       [1.        , 1.21913864],\n",
       "       [1.        , 1.12942864],\n",
       "       [1.        , 1.91020063],\n",
       "       [1.        , 0.05594361],\n",
       "       [1.        , 1.49989014],\n",
       "       [1.        , 1.22773675],\n",
       "       [1.        , 1.92879811],\n",
       "       [1.        , 1.81391851],\n",
       "       [1.        , 0.41194547],\n",
       "       [1.        , 1.72416247],\n",
       "       [1.        , 1.64863629],\n",
       "       [1.        , 0.63478577],\n",
       "       [1.        , 1.86213183],\n",
       "       [1.        , 1.4165204 ],\n",
       "       [1.        , 1.01287939],\n",
       "       [1.        , 1.797151  ],\n",
       "       [1.        , 0.00769762],\n",
       "       [1.        , 1.94260683],\n",
       "       [1.        , 0.29333433],\n",
       "       [1.        , 1.17266494],\n",
       "       [1.        , 1.63422883],\n",
       "       [1.        , 0.17212222],\n",
       "       [1.        , 1.77377438],\n",
       "       [1.        , 1.86128021],\n",
       "       [1.        , 0.47753623],\n",
       "       [1.        , 1.27173698],\n",
       "       [1.        , 1.00568213],\n",
       "       [1.        , 0.38357342],\n",
       "       [1.        , 1.90001976],\n",
       "       [1.        , 1.33360106],\n",
       "       [1.        , 0.44946347],\n",
       "       [1.        , 1.04680525],\n",
       "       [1.        , 0.9089171 ],\n",
       "       [1.        , 0.96931465],\n",
       "       [1.        , 0.30474799],\n",
       "       [1.        , 1.36315634],\n",
       "       [1.        , 0.26151293],\n",
       "       [1.        , 1.31498635],\n",
       "       [1.        , 1.0142846 ],\n",
       "       [1.        , 1.79068891]])"
      ]
     },
     "execution_count": 13,
     "metadata": {},
     "output_type": "execute_result"
    }
   ],
   "source": [
    "X_b"
   ]
  },
  {
   "cell_type": "code",
   "execution_count": 14,
   "metadata": {
    "collapsed": true
   },
   "outputs": [],
   "source": [
    "# stochastic gradient descent \n",
    "\n",
    "## simluated annealing\n",
    "\n",
    "n_epochs = 50\n",
    "t0, t1 = 5, 50\n",
    "\n",
    "def learning_schedule(t):\n",
    "    return t0 / (t + t1)\n",
    "\n",
    "theta = np.random.randn(2, 1)\n",
    "\n",
    "for epoch in range(n_epochs):\n",
    "    for i in range(m):\n",
    "        random_index = np.random.randint(m)\n",
    "        xi = X_b[random_index:random_index+1]\n",
    "        yi = y[random_index:random_index+1]\n",
    "        gradients = 2 * xi.T.dot(xi.dot(theta) - yi)\n",
    "        eta = learning_schedule(epoch * m + i)\n",
    "        theta = theta - eta * gradients\n",
    "        \n"
   ]
  },
  {
   "cell_type": "code",
   "execution_count": 15,
   "metadata": {},
   "outputs": [
    {
     "data": {
      "text/plain": [
       "array([[4.10839877],\n",
       "       [2.81640365]])"
      ]
     },
     "execution_count": 15,
     "metadata": {},
     "output_type": "execute_result"
    }
   ],
   "source": [
    "theta"
   ]
  },
  {
   "cell_type": "code",
   "execution_count": 16,
   "metadata": {},
   "outputs": [
    {
     "name": "stderr",
     "output_type": "stream",
     "text": [
      "/home/czk/anaconda3/lib/python3.6/site-packages/sklearn/linear_model/stochastic_gradient.py:117: DeprecationWarning: n_iter parameter is deprecated in 0.19 and will be removed in 0.21. Use max_iter and tol instead.\n",
      "  DeprecationWarning)\n"
     ]
    },
    {
     "data": {
      "text/plain": [
       "SGDRegressor(alpha=0.0001, average=False, epsilon=0.1, eta0=0.1,\n",
       "       fit_intercept=True, l1_ratio=0.15, learning_rate='invscaling',\n",
       "       loss='squared_loss', max_iter=None, n_iter=50, penalty=None,\n",
       "       power_t=0.25, random_state=None, shuffle=True, tol=None, verbose=0,\n",
       "       warm_start=False)"
      ]
     },
     "execution_count": 16,
     "metadata": {},
     "output_type": "execute_result"
    }
   ],
   "source": [
    "from sklearn.linear_model import SGDRegressor\n",
    "\n",
    "sgd_reg = SGDRegressor(n_iter = 50, penalty = None, eta0 = 0.1)\n",
    "sgd_reg.fit(X, y.ravel())"
   ]
  },
  {
   "cell_type": "code",
   "execution_count": 17,
   "metadata": {},
   "outputs": [
    {
     "data": {
      "text/plain": [
       "(array([4.15313478]), array([2.84973398]))"
      ]
     },
     "execution_count": 17,
     "metadata": {},
     "output_type": "execute_result"
    }
   ],
   "source": [
    "sgd_reg.intercept_, sgd_reg.coef_"
   ]
  },
  {
   "cell_type": "code",
   "execution_count": 18,
   "metadata": {},
   "outputs": [
    {
     "data": {
      "text/plain": [
       "(array([-1.82346734,  3.32503314]), array([-1.82346734]))"
      ]
     },
     "execution_count": 18,
     "metadata": {},
     "output_type": "execute_result"
    }
   ],
   "source": [
    "## Polynomial Regression\n",
    "\n",
    "m = 100\n",
    "X = 6 * np.random.rand(m, 1) - 3\n",
    "y = 0.5 * X ** 2 + X + 2 + np.random.randn(m, 1)\n",
    "\n",
    "from sklearn.preprocessing import PolynomialFeatures\n",
    "\n",
    "poly_features = PolynomialFeatures(degree = 2, include_bias = False)\n",
    "\n",
    "X_poly = poly_features.fit_transform(X)\n",
    "\n",
    "X_poly[0], X[0]\n",
    "## adding the square of the first feature as the second feature"
   ]
  },
  {
   "cell_type": "code",
   "execution_count": 19,
   "metadata": {},
   "outputs": [
    {
     "data": {
      "text/plain": [
       "(array([2.07798153]), array([[0.99281449, 0.48447312]]))"
      ]
     },
     "execution_count": 19,
     "metadata": {},
     "output_type": "execute_result"
    }
   ],
   "source": [
    "from sklearn.linear_model import LinearRegression\n",
    "\n",
    "lin_reg = LinearRegression()\n",
    "lin_reg.fit(X_poly, y)\n",
    "lin_reg.intercept_, lin_reg.coef_"
   ]
  },
  {
   "cell_type": "code",
   "execution_count": 20,
   "metadata": {
    "collapsed": true
   },
   "outputs": [],
   "source": [
    "from sklearn.metrics import mean_squared_error \n",
    "from sklearn.model_selection import train_test_split \n",
    "def plot_learning_curves(model, X, y):\n",
    "    X_train, X_val, y_train, y_val = train_test_split(X, y, test_size=0.2)\n",
    "    train_errors, val_errors = [], []\n",
    "    for m in range(1, len(X_train)):\n",
    "        model.fit(X_train[:m], y_train[:m])\n",
    "        y_train_predict = model.predict(X_train[:m])\n",
    "        y_val_predict = model.predict(X_val)\n",
    "        train_errors.append(mean_squared_error(y_train_predict, y_train[:m]))\n",
    "        val_errors.append(mean_squared_error(y_val_predict, y_val))\n",
    "        plt.plot(np.sqrt(train_errors), \"r-+\", linewidth=2, label=\"train\")\n",
    "        plt.plot(np.sqrt(val_errors), \"b-\", linewidth=3, label=\"val\") \n",
    "\n"
   ]
  },
  {
   "cell_type": "code",
   "execution_count": 21,
   "metadata": {
    "collapsed": true
   },
   "outputs": [],
   "source": [
    "lin_reg = LinearRegression()\n",
    "plot_learning_curves(lin_reg, X_poly, y)"
   ]
  },
  {
   "cell_type": "code",
   "execution_count": 22,
   "metadata": {
    "collapsed": true
   },
   "outputs": [],
   "source": [
    "from sklearn.pipeline import Pipeline \n",
    "polynomial_regression = Pipeline(\n",
    "    ((\"poly_features\", PolynomialFeatures(degree=10, include_bias=False)),\n",
    "     (\"sgd_reg\", LinearRegression()))) \n",
    "plot_learning_curves(polynomial_regression, X, y) "
   ]
  },
  {
   "cell_type": "code",
   "execution_count": 23,
   "metadata": {
    "collapsed": true
   },
   "outputs": [],
   "source": [
    "# Ridge Regression: linear regression with l2-norm\n",
    "# Lasso Regression: Linear regression with l1-norm\n",
    "\n",
    "sgd_clf = SGDRegressor(penalty=\"l2\")"
   ]
  },
  {
   "cell_type": "code",
   "execution_count": 24,
   "metadata": {
    "collapsed": true
   },
   "outputs": [],
   "source": [
    "## early-stopping\n",
    "import warnings\n",
    "from sklearn.exceptions import DataConversionWarning\n",
    "warnings.filterwarnings(\"ignore\", category=DeprecationWarning)\n",
    "warnings.filterwarnings(\"ignore\", category=DataConversionWarning)\n",
    "# warnings.filterwarnings(\"ignore\", category=DataConversionWarning)\n",
    "\n",
    "from sklearn.base import clone\n",
    "\n",
    "sgd_reg  = SGDRegressor(n_iter = 1, warm_start = True, penalty = \"l1\", learning_rate = \"constant\", eta0 = 0.0005)\n",
    "\n",
    "minimum_val_error = float(\"inf\")\n",
    "best_epoch = None\n",
    "best_model = None\n",
    "\n",
    "X_train, X_val, y_train, y_val = train_test_split(X, y, test_size=0.2)\n",
    "\n",
    "for epoch in range(1000):\n",
    "    sgd_reg.fit(X_train, y_train) # continues where it left off\n",
    "    y_val_predict = sgd_reg.predict(X_val)\n",
    "    val_error = mean_squared_error(y_val_predict, y_val)\n",
    "    if val_error < minimum_val_error:\n",
    "        minimum_val_error = val_error\n",
    "    best_epoch = epoch\n",
    "    best_model = clone(sgd_reg)\n",
    "\n"
   ]
  },
  {
   "cell_type": "code",
   "execution_count": 25,
   "metadata": {},
   "outputs": [],
   "source": [
    "\n",
    "from sklearn import datasets\n",
    "iris = datasets.load_iris()\n",
    "X = iris[\"data\"][:, 3:]\n",
    "y = (iris['target'] == 2).astype(np.int)"
   ]
  },
  {
   "cell_type": "code",
   "execution_count": 26,
   "metadata": {},
   "outputs": [
    {
     "data": {
      "text/plain": [
       "LogisticRegression(C=1.0, class_weight=None, dual=False, fit_intercept=True,\n",
       "          intercept_scaling=1, max_iter=100, multi_class='ovr', n_jobs=1,\n",
       "          penalty='l2', random_state=None, solver='liblinear', tol=0.0001,\n",
       "          verbose=0, warm_start=False)"
      ]
     },
     "execution_count": 26,
     "metadata": {},
     "output_type": "execute_result"
    }
   ],
   "source": [
    "from sklearn.linear_model import LogisticRegression\n",
    "\n",
    "log_reg = LogisticRegression()\n",
    "log_reg.fit(X, y)"
   ]
  },
  {
   "cell_type": "code",
   "execution_count": 28,
   "metadata": {},
   "outputs": [
    {
     "data": {
      "image/png": "[encoded data removed]",
      "text/plain": [
       "<matplotlib.figure.Figure at 0x7f75455a40b8>"
      ]
     },
     "metadata": {},
     "output_type": "display_data"
    }
   ],
   "source": [
    "X_new = np.linspace(0, 3, 1000).reshape(-1, 1)\n",
    "y_proba = log_reg.predict_proba(X_new)\n",
    "plt.plot(X_new, y_proba[:, 1], \"g-\", label=\"Iris-Virginica\")\n",
    "plt.plot(X_new, y_proba[:, 0], \"b--\", label=\"Not Iris-Virginica\")\n",
    "plt.show()"
   ]
  },
  {
   "cell_type": "code",
   "execution_count": null,
   "metadata": {
    "collapsed": true
   },
   "outputs": [],
   "source": [
    "# the Softmax Regression model\n",
    "# first computes a score s k (x) for each class k, then estimates the probability of each\n",
    "# class by applying the softmax function (also called the normalized exponential) to the\n",
    "# scores\n",
    "\n"
   ]
  }
 ],
 "metadata": {
  "kernelspec": {
   "display_name": "Python 3",
   "language": "python",
   "name": "python3"
  },
  "language_info": {
   "codemirror_mode": {
    "name": "ipython",
    "version": 3
   },
   "file_extension": ".py",
   "mimetype": "text/x-python",
   "name": "python",
   "nbconvert_exporter": "python",
   "pygments_lexer": "ipython3",
   "version": "3.6.3"
  }
 },
 "nbformat": 4,
 "nbformat_minor": 2
}
